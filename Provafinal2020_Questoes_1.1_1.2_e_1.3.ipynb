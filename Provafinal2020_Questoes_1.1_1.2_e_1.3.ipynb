{
 "cells": [
  {
   "cell_type": "markdown",
   "id": "a7fb6eea",
   "metadata": {},
   "source": [
    "# Prova Final do Curso - Turma de 2020"
   ]
  },
  {
   "cell_type": "markdown",
   "id": "b0734120",
   "metadata": {},
   "source": [
    "### Questão 1.1 O que é overfitting e underfitting? Quando ocorrem?\n",
    "\n",
    "(0,50 de 0,50)\n",
    "\n",
    "Overfitting é o sobreajuste do modelo de predição aos dados de treinamento. Ocorre quando o modelo se ajusta aos dados de treinamento, tendo um bom desempenho com os dados que foi treinado, mas um baixo desempenho com dados reais (teste).\n",
    "\n",
    "Underfitting é o sub-ajuste do modelo de predição aos dados de treinamento. Ocorre quando o modelo tem baixo desempenho com os dados de treinamento."
   ]
  },
  {
   "cell_type": "markdown",
   "id": "62ba8f3f",
   "metadata": {},
   "source": [
    "### Questão 1.2 Referente à questão 1.1, responda: Explique como evitar a ocorrência desses fenômenos nos dados. Descreva um exemplo.\n",
    "\n",
    "(1,00 de 1,00)\n",
    "\n",
    "Para evitar a ocorrência de overfitting e underfitting é preciso encontrar um equilíbrio entre viés e variância, buscando menor viés e maior variância.\n",
    "\n",
    "Um exemplo de como buscar esse equilíbrio é utilizar a técnica de validação cruzada utilizando todos os dados rotulados para treinamento, ajuste e teste.\n",
    "\n",
    "É feito particionamento (handout ou k-fold ou leave-one-out) do conjunto de dados em folds, parte dos folds são dados de treinamento, sendo os folds restantes dados de validação ou de teste empregados na validação do modelo."
   ]
  },
  {
   "cell_type": "markdown",
   "id": "ccfa91d2",
   "metadata": {},
   "source": [
    "### Questão 1.3 - Imagine que você tem um conjunto de dados com 90% das observações na classe A e 10% na classe B. Explique como você faria a classificação de forma a evitar a  predominância da classe A nos resultados.\n",
    "\n",
    "(1,00 de 1,00)\n",
    "\n",
    "Há técnicas de rebalanceamento que permitem subamostrar dados da classe A, ou sobreamostrar os dados da classe B, como a técnica SMOTE.\n",
    "\n",
    "Porém como a diferença de 90% para 10% é muito alta, usaria o treinamento e teste com particionamento dos dados, mantendo em cada fold a mesma proporção de 90% e 10% em cada fold, tanto de treinamento quanto de teste."
   ]
  },
  {
   "cell_type": "code",
   "execution_count": null,
   "id": "4506ab79",
   "metadata": {},
   "outputs": [],
   "source": []
  }
 ],
 "metadata": {
  "kernelspec": {
   "display_name": "Python 3",
   "language": "python",
   "name": "python3"
  },
  "language_info": {
   "codemirror_mode": {
    "name": "ipython",
    "version": 3
   },
   "file_extension": ".py",
   "mimetype": "text/x-python",
   "name": "python",
   "nbconvert_exporter": "python",
   "pygments_lexer": "ipython3",
   "version": "3.8.10"
  }
 },
 "nbformat": 4,
 "nbformat_minor": 5
}
