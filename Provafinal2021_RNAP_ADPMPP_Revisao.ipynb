{
 "cells": [
  {
   "cell_type": "markdown",
   "metadata": {
    "id": "flekT6GFDN6m"
   },
   "source": [
    "#PREENCHA SEU NOME COMPLETO AQUI: \n",
    "\n",
    "### <span style=\"color:blue\">MBA em Ciência de Dados</span>\n",
    "### <span style=\"color:blue\">Redes Neurais e Arquiteturas Profundas</span>\n",
    "### <span style=\"color:blue\">Análise de Dados com Base em Processamento Massivo em Paralelo</span>\n",
    "\n",
    "### <span style=\"color:blue\">Prova Final</span>\n",
    "\n",
    "**Material Produzido por:**<br>\n",
    ">**Profa. Dra. Cristina Dutra de Aguiar**<br>\n",
    ">**Prof. Dr. Moacir A. Ponti**<br> \n",
    "\n",
    "**CEMEAI - ICMC/USP São Carlos**\n",
    "\n",
    "\n",
    "A prova final contém 1 questão, dividida em 3 itens. Por favor, procurem por Questão para encontrar a especificação da questão e por RESOLVER para encontrar a especificação do item a ser solucionado. Também é possível localizar a questão e os itens utilizando o menu de navegação. \n",
    "\n",
    "O notebook contém a constelação de fatos da BI Solutions que deve ser utilizada para responder à questão e também todas as `bibliotecas`, `bases de dados`, `inicializações`, `instalações`, `importações`, `geração de dataFrames`, `geração de visões temporárias` e `conversão dos tipos de dados` necessárias para a realização da questão.\n",
    "\n",
    "\n",
    "**INSTRUÇÕES**:<br>\n",
    "1) Você deve exportar esse notebook com sua solução para as questões da prova em formato .py e fazer upload no Moodle. Atenção: você não deve fazer upload de um arquivo notebook (.ipynb), mas sim um arquivo texto .py contendo os códigos python que utilizou para resolver as questões. O arquivo .py pode ser gerado através da opção:<br>\n",
    "File --> Download as --> Python (.py)\n",
    "disponível no Jupyter Notebook.\n",
    "\n",
    "ou\n",
    "File --> Download .py\n",
    "no Google Colab\n",
    "\n",
    "Caso não esteja utilizando o Jupyter, copie e cole seu código em um arquivo ASCII (Texto) salvando com a extensão .py\n",
    "\n",
    "2) Você deve salvar esse notebook com sua solução para as questões da prova em formato .pdf e fazer upload no Moodle\n",
    "\n",
    "3) Os arquivos devem ser nomeados com seu nome e sobrenome, sem espaços. Exemplo: moacirponti.py e moacirponti.pdf\n",
    "\n",
    "4) É OBRIGATÓRIO conter no cabeçalho (início) do arquivo um comentário / texto com o seu nome completo\n",
    "\n",
    "\n",
    "**Desejamos uma boa prova!**"
   ]
  },
  {
   "cell_type": "markdown",
   "metadata": {
    "id": "3o3dN_WLQcyD"
   },
   "source": [
    "#1 Constelação de Fatos da BI Solutions\n",
    "\n",
    "A aplicação de *data warehousing* da BI Solutions utiliza como base uma contelação de fatos, conforme descrita a seguir.\n",
    "\n",
    "**Tabelas de dimensão**\n",
    "\n",
    "- data (dataPK, dataCompleta, dataDia, dataMes, dataBimestre, dataTrimestre, dataSemestre, dataAno)\n",
    "- funcionario (funcPK, funcMatricula, funcNome, funcSexo, funcDataNascimento, funcDiaNascimento, funcMesNascimento, funcAnoNascimento, funcCidade, funcEstadoNome, funcEstadoSigla, funcRegiaoNome, funcRegiaoSigla, funcPaisNome, funcPaisSigla)\n",
    "- equipe (equipePK, equipeNome, filialNome, filialCidade, filialEstadoNome, filialEstadoSigla, filialRegiaoNome, filialRegiaoSigla, filialPaisNome, filialPaisSigla)\n",
    "- cargo (cargoPK, cargoNome, cargoRegimeTrabalho, cargoEscolaridadeMinima, cargoNivel)\n",
    "- cliente (clientePK, clienteNomeFantasia, clienteSetor, clienteCidade, clienteEstadoNome, clienteEstadoSigla, clienteRegiaoNome, clienteRegiaoSigla, clientePaisNome, clientePaisSigla)\n",
    "\n",
    "**Tabelas de fatos**\n",
    "- pagamento (dataPK, funcPK, equipePK, cargoPK, salario, quantidadeLancamentos)\n",
    "- negociacao (dataPK, equipePK, clientePK, receita, quantidadeNegociacoes)\n"
   ]
  },
  {
   "cell_type": "markdown",
   "metadata": {
    "id": "BGeh8KdXwVCQ"
   },
   "source": [
    "#2 Configurações \n"
   ]
  },
  {
   "cell_type": "markdown",
   "metadata": {
    "id": "lWX2HVtNSw8w"
   },
   "source": [
    "## 2.1 Obtenção dos Dados da BI Solutions"
   ]
  },
  {
   "cell_type": "code",
   "execution_count": null,
   "metadata": {
    "id": "3e0Eao1K0EYG"
   },
   "outputs": [],
   "source": [
    "#instalando o módulo wget\n",
    "%%capture\n",
    "!pip install -q wget\n",
    "!mkdir data\n",
    "\n",
    "#baixando os dados das tabelas de dimensão e das tabelas de fatos\n",
    "import wget\n",
    "\n",
    "url = \"https://raw.githubusercontent.com/cristinaaguiar/DataMartBISolutions/main/data.csv\"\n",
    "wget.download(url, \"data/data.csv\")\n",
    "\n",
    "url = \"https://raw.githubusercontent.com/cristinaaguiar/DataMartBISolutions/main/funcionario.csv\"\n",
    "wget.download(url, \"data/funcionario.csv\")\n",
    "\n",
    "url = \"https://raw.githubusercontent.com/cristinaaguiar/DataMartBISolutions/main/equipe.csv\"\n",
    "wget.download(url, \"data/equipe.csv\")\n",
    "\n",
    "url = \"https://raw.githubusercontent.com/cristinaaguiar/DataMartBISolutions/main/cargo.csv\"\n",
    "wget.download(url, \"data/cargo.csv\")\n",
    "\n",
    "url = \"https://raw.githubusercontent.com/cristinaaguiar/DataMartBISolutions/main/cliente.csv\"\n",
    "wget.download(url, \"data/cliente.csv\")\n",
    "\n",
    "url = \"https://raw.githubusercontent.com/cristinaaguiar/DataMartBISolutions/main/pagamento.csv\"\n",
    "wget.download(url, \"data/pagamento.csv\")\n",
    "\n",
    "url = \"https://raw.githubusercontent.com/cristinaaguiar/DataMartBISolutions/main/negociacao.csv\"\n",
    "wget.download(url, \"data/negociacao.csv\")"
   ]
  },
  {
   "cell_type": "markdown",
   "metadata": {
    "id": "sO16-7-jOioq"
   },
   "source": [
    "## 2.2 Instalações e Inicializações"
   ]
  },
  {
   "cell_type": "code",
   "execution_count": null,
   "metadata": {
    "id": "gFfZ3QoxuV6q"
   },
   "outputs": [],
   "source": [
    "#instalando Java Runtime Environment (JRE) versão 8\n",
    "%%capture\n",
    "!apt-get remove openjdk*\n",
    "!apt-get update --fix-missing\n",
    "!apt-get install openjdk-8-jdk-headless -qq > /dev/null"
   ]
  },
  {
   "cell_type": "code",
   "execution_count": null,
   "metadata": {
    "id": "hpSR-ffXuZS3"
   },
   "outputs": [],
   "source": [
    "#baixando Apache Spark versão 3.0.0\n",
    "%%capture\n",
    "!wget -q https://archive.apache.org/dist/spark/spark-3.0.0/spark-3.0.0-bin-hadoop2.7.tgz\n",
    "!tar xf spark-3.0.0-bin-hadoop2.7.tgz && rm spark-3.0.0-bin-hadoop2.7.tgz"
   ]
  },
  {
   "cell_type": "code",
   "execution_count": null,
   "metadata": {
    "id": "XC4whsGcuiEF"
   },
   "outputs": [],
   "source": [
    "import os\n",
    "#configurando a variável de ambiente JAVA_HOME\n",
    "os.environ[\"JAVA_HOME\"] = \"/usr/lib/jvm/java-8-openjdk-amd64\"\n",
    "#configurando a variável de ambiente SPARK_HOME\n",
    "os.environ[\"SPARK_HOME\"] = \"/content/spark-3.0.0-bin-hadoop2.7\""
   ]
  },
  {
   "cell_type": "code",
   "execution_count": null,
   "metadata": {
    "id": "ZMmfchBEuky0"
   },
   "outputs": [],
   "source": [
    "%%capture\n",
    "#instalando o pacote findspark\n",
    "!pip install -q findspark==1.4.2\n",
    "#instalando o pacote pyspark\n",
    "!pip install -q pyspark==3.0.0"
   ]
  },
  {
   "cell_type": "markdown",
   "metadata": {
    "id": "k_8fiSPVwqAO"
   },
   "source": [
    "## 2.3 Bibliotecas"
   ]
  },
  {
   "cell_type": "code",
   "execution_count": null,
   "metadata": {
    "id": "NXls3bfoglKW"
   },
   "outputs": [],
   "source": [
    "import findspark\n",
    "findspark.init()\n",
    "from pyspark.sql import SparkSession\n",
    "spark = SparkSession.builder.appName(\"pyspark-notebook\").master(\"local[*]\").getOrCreate()\n",
    "\n",
    "from pyspark.sql.types import IntegerType\n",
    "from pyspark.sql.types import FloatType\n",
    "from pyspark.sql.functions import round, desc\n",
    "\n",
    "import random\n",
    "import numpy as np\n",
    "import pandas as pd\n",
    "import matplotlib.pyplot as plt\n",
    "import tensorflow as tf\n",
    "from numpy.random import seed\n",
    "from tensorflow.random import set_seed\n",
    "from tensorflow import keras\n",
    "from tensorflow.keras import layers"
   ]
  },
  {
   "cell_type": "markdown",
   "metadata": {
    "id": "OcSO2MjXC23E"
   },
   "source": [
    "## 2.4 Geração dos DataFrames em Pandas da BI Solutions\n",
    "\n",
    "Nesta seção são gerados os DataFrames em Pandas. Atenção aos nomes desses DataFrames. "
   ]
  },
  {
   "cell_type": "code",
   "execution_count": null,
   "metadata": {
    "id": "6a0nRg8NC83e"
   },
   "outputs": [],
   "source": [
    "pd.set_option('display.float_format', lambda x: '%.2f' % x)"
   ]
  },
  {
   "cell_type": "code",
   "execution_count": null,
   "metadata": {
    "id": "CyQlExKoDBrb"
   },
   "outputs": [],
   "source": [
    "cargoPandas = pd.read_csv('https://raw.githubusercontent.com/cristinaaguiar/DataMartBISolutions/main/cargo.csv')\n",
    "clientePandas = pd.read_csv('https://raw.githubusercontent.com/cristinaaguiar/DataMartBISolutions/main/cliente.csv')\n",
    "dataPandas = pd.read_csv('https://raw.githubusercontent.com/cristinaaguiar/DataMartBISolutions/main/data.csv')\n",
    "equipePandas = pd.read_csv('https://raw.githubusercontent.com/cristinaaguiar/DataMartBISolutions/main/equipe.csv')\n",
    "funcionarioPandas = pd.read_csv('https://raw.githubusercontent.com/cristinaaguiar/DataMartBISolutions/main/funcionario.csv')\n",
    "negociacaoPandas = pd.read_csv('https://raw.githubusercontent.com/cristinaaguiar/DataMartBISolutions/main/negociacao.csv')\n",
    "pagamentoPandas = pd.read_csv('https://raw.githubusercontent.com/cristinaaguiar/DataMartBISolutions/main/pagamento.csv')"
   ]
  },
  {
   "cell_type": "markdown",
   "metadata": {
    "id": "5qL9SiR_pQE2"
   },
   "source": [
    "## 2.5 Geração dos DataFrames em Spark da BI Solutions\n",
    "\n",
    "Nesta seção são gerados dos DataFrames em Spark. Atenção aos nomes desses DataFrames. "
   ]
  },
  {
   "cell_type": "code",
   "execution_count": null,
   "metadata": {
    "cellView": "both",
    "id": "FNR-3dV6oYk4"
   },
   "outputs": [],
   "source": [
    "#criando os DataFrames em Spark \n",
    "cargo = spark.read.csv(path=\"data/cargo.csv\", header=True, sep=\",\")\n",
    "cliente = spark.read.csv(path=\"data/cliente.csv\", header=True, sep=\",\")\n",
    "data = spark.read.csv(path=\"data/data.csv\", header=True, sep=\",\")\n",
    "equipe = spark.read.csv(path=\"data/equipe.csv\", header=True, sep=\",\")\n",
    "funcionario = spark.read.csv(path=\"data/funcionario.csv\", header=True, sep=\",\")\n",
    "negociacao = spark.read.csv(path=\"data/negociacao.csv\", header=True, sep=\",\")\n",
    "pagamento = spark.read.csv(path=\"data/pagamento.csv\", header=True, sep=\",\")"
   ]
  },
  {
   "cell_type": "code",
   "execution_count": null,
   "metadata": {
    "id": "jmCV6Mur__z6"
   },
   "outputs": [],
   "source": [
    "#convertendo os dados necessários para o tipo de dado inteiro\n",
    "colunas_cargo = [\"cargoPK\"]\n",
    "colunas_cliente = [\"clientePK\"]\n",
    "colunas_data = [\"dataPK\", \"dataDia\", \"dataMes\", \"dataBimestre\", \"dataTrimestre\", \"dataSemestre\", \"dataAno\"]\n",
    "colunas_equipe = [\"equipePK\"]\n",
    "colunas_funcionario = [\"funcPK\", \"funcDiaNascimento\", \"funcMesNascimento\", \"funcAnoNascimento\"]\n",
    "colunas_negociacao = [\"equipePK\", \"clientePK\", \"dataPK\", \"quantidadeNegociacoes\"]\n",
    "colunas_pagamento = [\"funcPK\", \"equipePK\", \"dataPK\", \"cargoPK\", \"quantidadeLancamentos\"]\n",
    "\n",
    "for coluna in colunas_cargo:\n",
    "  cargo = cargo.withColumn(coluna, cargo[coluna].cast(IntegerType()))\n",
    "\n",
    "for coluna in colunas_cliente:\n",
    "  cliente = cliente.withColumn(coluna, cliente[coluna].cast(IntegerType()))\n",
    "\n",
    "for coluna in colunas_data:\n",
    "  data = data.withColumn(coluna, data[coluna].cast(IntegerType()))\n",
    "\n",
    "for coluna in colunas_equipe:\n",
    "  equipe = equipe.withColumn(coluna, equipe[coluna].cast(IntegerType()))\n",
    "\n",
    "for coluna in colunas_funcionario:\n",
    "  funcionario = funcionario.withColumn(coluna, funcionario[coluna].cast(IntegerType()))\n",
    "\n",
    "for coluna in colunas_negociacao:\n",
    "  negociacao = negociacao.withColumn(coluna, negociacao[coluna].cast(IntegerType()))\n",
    "\n",
    "for coluna in colunas_pagamento:\n",
    "  pagamento = pagamento.withColumn(coluna, pagamento[coluna].cast(IntegerType()))"
   ]
  },
  {
   "cell_type": "code",
   "execution_count": null,
   "metadata": {
    "id": "RBcQ7Ep7AWqN"
   },
   "outputs": [],
   "source": [
    "#convertendo os dados necessários para o tipo de dado float\n",
    "colunas_negociacao = [\"receita\"]\n",
    "colunas_pagamento = [\"salario\"]\n",
    "\n",
    "for coluna in colunas_negociacao:\n",
    "  negociacao = negociacao.withColumn(coluna, negociacao[coluna].cast(FloatType()))\n",
    "\n",
    "for coluna in colunas_pagamento:\n",
    "  pagamento = pagamento.withColumn(coluna, pagamento[coluna].cast(FloatType()))"
   ]
  },
  {
   "cell_type": "code",
   "execution_count": null,
   "metadata": {
    "id": "xJsqRI3TwsjS"
   },
   "outputs": [],
   "source": [
    "#criando as visões temporárias \n",
    "cargo.createOrReplaceTempView(\"cargo\")\n",
    "cliente.createOrReplaceTempView(\"cliente\")\n",
    "data.createOrReplaceTempView(\"data\")\n",
    "equipe.createOrReplaceTempView(\"equipe\")\n",
    "funcionario.createOrReplaceTempView(\"funcionario\")\n",
    "negociacao.createOrReplaceTempView(\"negociacao\")\n",
    "pagamento.createOrReplaceTempView(\"pagamento\")"
   ]
  },
  {
   "cell_type": "markdown",
   "metadata": {
    "id": "HT3nHMvLEjJM"
   },
   "source": [
    "# 3 Revisão\n",
    "\n"
   ]
  },
  {
   "cell_type": "markdown",
   "metadata": {
    "id": "TCG3ylIRXTVe"
   },
   "source": [
    "Liste, para cada trimestre de cada ano, a soma dos salários dos funcionários que moram no estado de São Paulo e que tenham cargo de nível SENIOR. Arredonde a soma dos salários para até duas casas decimais. Devem ser exibidas as colunas na ordem e com os nomes especificados a seguir: \"TRIMESTRE\", \"ANO\", \"TOTALSALARIO\". Ordene as linhas exibidas primeiro por trimestre, depois pelo ano, depois pelo total de salários, todos em ordem crescente (ascendente). Liste as primeiras 25 linhas da resposta, sem truncamento das strings."
   ]
  },
  {
   "cell_type": "markdown",
   "metadata": {
    "id": "RDa1gJ0eHHFN"
   },
   "source": [
    "## 3.1 Consulta em SQL \n",
    "\n"
   ]
  },
  {
   "cell_type": "code",
   "execution_count": null,
   "metadata": {
    "colab": {
     "base_uri": "https://localhost:8080/"
    },
    "id": "fpJCndPHIp4O",
    "outputId": "206f54df-5f2d-4f46-df40-8c950f67908d"
   },
   "outputs": [
    {
     "name": "stdout",
     "output_type": "stream",
     "text": [
      "+---------+----+------------+\n",
      "|TRIMESTRE|ANO |TOTALSALARIO|\n",
      "+---------+----+------------+\n",
      "|1        |2016|272077.02   |\n",
      "|1        |2017|656009.61   |\n",
      "|1        |2018|1016968.39  |\n",
      "|1        |2019|1155803.43  |\n",
      "|1        |2020|1155803.43  |\n",
      "|2        |2016|272077.02   |\n",
      "|2        |2017|656009.61   |\n",
      "|2        |2018|1016968.39  |\n",
      "|2        |2019|1155803.43  |\n",
      "|2        |2020|1155803.43  |\n",
      "|3        |2016|272077.02   |\n",
      "|3        |2017|656009.61   |\n",
      "|3        |2018|1016968.39  |\n",
      "|3        |2019|1155803.43  |\n",
      "|3        |2020|1155803.43  |\n",
      "|4        |2016|272077.02   |\n",
      "|4        |2017|656009.61   |\n",
      "|4        |2018|1016968.39  |\n",
      "|4        |2019|1155803.43  |\n",
      "|4        |2020|1155803.43  |\n",
      "+---------+----+------------+\n",
      "\n"
     ]
    }
   ],
   "source": [
    "# Escreva aqui a sua resposta para a consulta OLAP\n",
    "query = \"\"\"\n",
    "SELECT dataTrimestre AS TRIMESTRE,\n",
    "       dataAno AS ANO,\n",
    "       ROUND(SUM(salario), 2) As TOTALSALARIO\n",
    "FROM pagamento JOIN data ON pagamento.dataPK = data.dataPK\n",
    "               JOIN funcionario ON pagamento.funcPK = funcionario.funcPK\n",
    "               JOIN cargo ON pagamento.cargoPK = cargo.cargoPK\n",
    "WHERE funcEstadoNome = \"SAO PAULO\"\n",
    "      AND cargoNivel = \"SENIOR\"               \n",
    "GROUP BY dataTrimestre, dataAno\n",
    "ORDER BY dataTrimestre, dataAno, TOTALSALARIO\n",
    "\"\"\"\n",
    "spark.sql(query).show(25,truncate=False)"
   ]
  },
  {
   "cell_type": "markdown",
   "metadata": {
    "id": "78L3ekrWZOUH"
   },
   "source": [
    "## 3.2 Consulta em Pandas"
   ]
  },
  {
   "cell_type": "code",
   "execution_count": null,
   "metadata": {
    "colab": {
     "base_uri": "https://localhost:8080/",
     "height": 676
    },
    "id": "iBiNBU8ZZVII",
    "outputId": "cdc8a468-c61b-4c8e-f390-b3105998b56e"
   },
   "outputs": [
    {
     "data": {
      "text/html": [
       "\n",
       "  <div id=\"df-d1ff42f6-9487-4c2a-8fa1-97e0b3cfecb9\">\n",
       "    <div class=\"colab-df-container\">\n",
       "      <div>\n",
       "<style scoped>\n",
       "    .dataframe tbody tr th:only-of-type {\n",
       "        vertical-align: middle;\n",
       "    }\n",
       "\n",
       "    .dataframe tbody tr th {\n",
       "        vertical-align: top;\n",
       "    }\n",
       "\n",
       "    .dataframe thead th {\n",
       "        text-align: right;\n",
       "    }\n",
       "</style>\n",
       "<table border=\"1\" class=\"dataframe\">\n",
       "  <thead>\n",
       "    <tr style=\"text-align: right;\">\n",
       "      <th></th>\n",
       "      <th>TRIMESTRE</th>\n",
       "      <th>ANO</th>\n",
       "      <th>TOTALSALARIO</th>\n",
       "    </tr>\n",
       "  </thead>\n",
       "  <tbody>\n",
       "    <tr>\n",
       "      <th>0</th>\n",
       "      <td>1</td>\n",
       "      <td>2016</td>\n",
       "      <td>272077.02</td>\n",
       "    </tr>\n",
       "    <tr>\n",
       "      <th>1</th>\n",
       "      <td>1</td>\n",
       "      <td>2017</td>\n",
       "      <td>656009.61</td>\n",
       "    </tr>\n",
       "    <tr>\n",
       "      <th>2</th>\n",
       "      <td>1</td>\n",
       "      <td>2018</td>\n",
       "      <td>1016968.38</td>\n",
       "    </tr>\n",
       "    <tr>\n",
       "      <th>3</th>\n",
       "      <td>1</td>\n",
       "      <td>2019</td>\n",
       "      <td>1155803.43</td>\n",
       "    </tr>\n",
       "    <tr>\n",
       "      <th>4</th>\n",
       "      <td>1</td>\n",
       "      <td>2020</td>\n",
       "      <td>1155803.43</td>\n",
       "    </tr>\n",
       "    <tr>\n",
       "      <th>5</th>\n",
       "      <td>2</td>\n",
       "      <td>2016</td>\n",
       "      <td>272077.02</td>\n",
       "    </tr>\n",
       "    <tr>\n",
       "      <th>6</th>\n",
       "      <td>2</td>\n",
       "      <td>2017</td>\n",
       "      <td>656009.61</td>\n",
       "    </tr>\n",
       "    <tr>\n",
       "      <th>7</th>\n",
       "      <td>2</td>\n",
       "      <td>2018</td>\n",
       "      <td>1016968.38</td>\n",
       "    </tr>\n",
       "    <tr>\n",
       "      <th>8</th>\n",
       "      <td>2</td>\n",
       "      <td>2019</td>\n",
       "      <td>1155803.43</td>\n",
       "    </tr>\n",
       "    <tr>\n",
       "      <th>9</th>\n",
       "      <td>2</td>\n",
       "      <td>2020</td>\n",
       "      <td>1155803.43</td>\n",
       "    </tr>\n",
       "    <tr>\n",
       "      <th>10</th>\n",
       "      <td>3</td>\n",
       "      <td>2016</td>\n",
       "      <td>272077.02</td>\n",
       "    </tr>\n",
       "    <tr>\n",
       "      <th>11</th>\n",
       "      <td>3</td>\n",
       "      <td>2017</td>\n",
       "      <td>656009.61</td>\n",
       "    </tr>\n",
       "    <tr>\n",
       "      <th>12</th>\n",
       "      <td>3</td>\n",
       "      <td>2018</td>\n",
       "      <td>1016968.38</td>\n",
       "    </tr>\n",
       "    <tr>\n",
       "      <th>13</th>\n",
       "      <td>3</td>\n",
       "      <td>2019</td>\n",
       "      <td>1155803.43</td>\n",
       "    </tr>\n",
       "    <tr>\n",
       "      <th>14</th>\n",
       "      <td>3</td>\n",
       "      <td>2020</td>\n",
       "      <td>1155803.43</td>\n",
       "    </tr>\n",
       "    <tr>\n",
       "      <th>15</th>\n",
       "      <td>4</td>\n",
       "      <td>2016</td>\n",
       "      <td>272077.02</td>\n",
       "    </tr>\n",
       "    <tr>\n",
       "      <th>16</th>\n",
       "      <td>4</td>\n",
       "      <td>2017</td>\n",
       "      <td>656009.61</td>\n",
       "    </tr>\n",
       "    <tr>\n",
       "      <th>17</th>\n",
       "      <td>4</td>\n",
       "      <td>2018</td>\n",
       "      <td>1016968.38</td>\n",
       "    </tr>\n",
       "    <tr>\n",
       "      <th>18</th>\n",
       "      <td>4</td>\n",
       "      <td>2019</td>\n",
       "      <td>1155803.43</td>\n",
       "    </tr>\n",
       "    <tr>\n",
       "      <th>19</th>\n",
       "      <td>4</td>\n",
       "      <td>2020</td>\n",
       "      <td>1155803.43</td>\n",
       "    </tr>\n",
       "  </tbody>\n",
       "</table>\n",
       "</div>\n",
       "      <button class=\"colab-df-convert\" onclick=\"convertToInteractive('df-d1ff42f6-9487-4c2a-8fa1-97e0b3cfecb9')\"\n",
       "              title=\"Convert this dataframe to an interactive table.\"\n",
       "              style=\"display:none;\">\n",
       "        \n",
       "  <svg xmlns=\"http://www.w3.org/2000/svg\" height=\"24px\"viewBox=\"0 0 24 24\"\n",
       "       width=\"24px\">\n",
       "    <path d=\"M0 0h24v24H0V0z\" fill=\"none\"/>\n",
       "    <path d=\"M18.56 5.44l.94 2.06.94-2.06 2.06-.94-2.06-.94-.94-2.06-.94 2.06-2.06.94zm-11 1L8.5 8.5l.94-2.06 2.06-.94-2.06-.94L8.5 2.5l-.94 2.06-2.06.94zm10 10l.94 2.06.94-2.06 2.06-.94-2.06-.94-.94-2.06-.94 2.06-2.06.94z\"/><path d=\"M17.41 7.96l-1.37-1.37c-.4-.4-.92-.59-1.43-.59-.52 0-1.04.2-1.43.59L10.3 9.45l-7.72 7.72c-.78.78-.78 2.05 0 2.83L4 21.41c.39.39.9.59 1.41.59.51 0 1.02-.2 1.41-.59l7.78-7.78 2.81-2.81c.8-.78.8-2.07 0-2.86zM5.41 20L4 18.59l7.72-7.72 1.47 1.35L5.41 20z\"/>\n",
       "  </svg>\n",
       "      </button>\n",
       "      \n",
       "  <style>\n",
       "    .colab-df-container {\n",
       "      display:flex;\n",
       "      flex-wrap:wrap;\n",
       "      gap: 12px;\n",
       "    }\n",
       "\n",
       "    .colab-df-convert {\n",
       "      background-color: #E8F0FE;\n",
       "      border: none;\n",
       "      border-radius: 50%;\n",
       "      cursor: pointer;\n",
       "      display: none;\n",
       "      fill: #1967D2;\n",
       "      height: 32px;\n",
       "      padding: 0 0 0 0;\n",
       "      width: 32px;\n",
       "    }\n",
       "\n",
       "    .colab-df-convert:hover {\n",
       "      background-color: #E2EBFA;\n",
       "      box-shadow: 0px 1px 2px rgba(60, 64, 67, 0.3), 0px 1px 3px 1px rgba(60, 64, 67, 0.15);\n",
       "      fill: #174EA6;\n",
       "    }\n",
       "\n",
       "    [theme=dark] .colab-df-convert {\n",
       "      background-color: #3B4455;\n",
       "      fill: #D2E3FC;\n",
       "    }\n",
       "\n",
       "    [theme=dark] .colab-df-convert:hover {\n",
       "      background-color: #434B5C;\n",
       "      box-shadow: 0px 1px 3px 1px rgba(0, 0, 0, 0.15);\n",
       "      filter: drop-shadow(0px 1px 2px rgba(0, 0, 0, 0.3));\n",
       "      fill: #FFFFFF;\n",
       "    }\n",
       "  </style>\n",
       "\n",
       "      <script>\n",
       "        const buttonEl =\n",
       "          document.querySelector('#df-d1ff42f6-9487-4c2a-8fa1-97e0b3cfecb9 button.colab-df-convert');\n",
       "        buttonEl.style.display =\n",
       "          google.colab.kernel.accessAllowed ? 'block' : 'none';\n",
       "\n",
       "        async function convertToInteractive(key) {\n",
       "          const element = document.querySelector('#df-d1ff42f6-9487-4c2a-8fa1-97e0b3cfecb9');\n",
       "          const dataTable =\n",
       "            await google.colab.kernel.invokeFunction('convertToInteractive',\n",
       "                                                     [key], {});\n",
       "          if (!dataTable) return;\n",
       "\n",
       "          const docLinkHtml = 'Like what you see? Visit the ' +\n",
       "            '<a target=\"_blank\" href=https://colab.research.google.com/notebooks/data_table.ipynb>data table notebook</a>'\n",
       "            + ' to learn more about interactive tables.';\n",
       "          element.innerHTML = '';\n",
       "          dataTable['output_type'] = 'display_data';\n",
       "          await google.colab.output.renderOutput(dataTable, element);\n",
       "          const docLink = document.createElement('div');\n",
       "          docLink.innerHTML = docLinkHtml;\n",
       "          element.appendChild(docLink);\n",
       "        }\n",
       "      </script>\n",
       "    </div>\n",
       "  </div>\n",
       "  "
      ],
      "text/plain": [
       "    TRIMESTRE   ANO  TOTALSALARIO\n",
       "0           1  2016     272077.02\n",
       "1           1  2017     656009.61\n",
       "2           1  2018    1016968.38\n",
       "3           1  2019    1155803.43\n",
       "4           1  2020    1155803.43\n",
       "5           2  2016     272077.02\n",
       "6           2  2017     656009.61\n",
       "7           2  2018    1016968.38\n",
       "8           2  2019    1155803.43\n",
       "9           2  2020    1155803.43\n",
       "10          3  2016     272077.02\n",
       "11          3  2017     656009.61\n",
       "12          3  2018    1016968.38\n",
       "13          3  2019    1155803.43\n",
       "14          3  2020    1155803.43\n",
       "15          4  2016     272077.02\n",
       "16          4  2017     656009.61\n",
       "17          4  2018    1016968.38\n",
       "18          4  2019    1155803.43\n",
       "19          4  2020    1155803.43"
      ]
     },
     "metadata": {},
     "output_type": "display_data"
    }
   ],
   "source": [
    "# Escreva aqui a sua resposta para a consulta OLAP\n",
    "mergePagamentoData = pagamentoPandas.merge(dataPandas, on= \"dataPK\")\n",
    "mergePagamentoDataFuncionario = mergePagamentoData.merge(funcionarioPandas, on= \"funcPK\")\n",
    "mergePagamentoDataFuncionarioCargo = mergePagamentoDataFuncionario.merge(cargoPandas, on= \"cargoPK\")\n",
    "mergePagamentoDataFuncionarioCargo = mergePagamentoDataFuncionarioCargo.query(\"funcEstadoNome == 'SAO PAULO'\")\n",
    "mergePagamentoDataFuncionarioCargo = mergePagamentoDataFuncionarioCargo.query('cargoNivel == \"SENIOR\"')\n",
    "df = mergePagamentoDataFuncionarioCargo.groupby([\"dataTrimestre\", \"dataAno\"], as_index=False)[\"salario\"].sum().round(2)\n",
    "df = df.sort_values(by=[\"dataTrimestre\", \"dataAno\",  \"salario\"], ascending=True)\n",
    "df = df.rename(columns={\"dataTrimestre\":\"TRIMESTRE\", \"dataAno\":\"ANO\", \"salario\":\"TOTALSALARIO\"})\n",
    "display(df)\n",
    "\n"
   ]
  },
  {
   "cell_type": "code",
   "execution_count": null,
   "metadata": {
    "colab": {
     "base_uri": "https://localhost:8080/",
     "height": 676
    },
    "id": "vDF9AVZUpFi6",
    "outputId": "6113fd3e-6d78-4061-a0df-4dca2cab4458"
   },
   "outputs": [
    {
     "data": {
      "text/html": [
       "\n",
       "  <div id=\"df-02763f9b-aed0-46df-ae2d-d52bb166699b\">\n",
       "    <div class=\"colab-df-container\">\n",
       "      <div>\n",
       "<style scoped>\n",
       "    .dataframe tbody tr th:only-of-type {\n",
       "        vertical-align: middle;\n",
       "    }\n",
       "\n",
       "    .dataframe tbody tr th {\n",
       "        vertical-align: top;\n",
       "    }\n",
       "\n",
       "    .dataframe thead th {\n",
       "        text-align: right;\n",
       "    }\n",
       "</style>\n",
       "<table border=\"1\" class=\"dataframe\">\n",
       "  <thead>\n",
       "    <tr style=\"text-align: right;\">\n",
       "      <th></th>\n",
       "      <th>TRIMESTRE</th>\n",
       "      <th>ANO</th>\n",
       "      <th>TOTALSALARIO</th>\n",
       "    </tr>\n",
       "  </thead>\n",
       "  <tbody>\n",
       "    <tr>\n",
       "      <th>0</th>\n",
       "      <td>1</td>\n",
       "      <td>2016</td>\n",
       "      <td>272077.02</td>\n",
       "    </tr>\n",
       "    <tr>\n",
       "      <th>1</th>\n",
       "      <td>1</td>\n",
       "      <td>2017</td>\n",
       "      <td>656009.61</td>\n",
       "    </tr>\n",
       "    <tr>\n",
       "      <th>2</th>\n",
       "      <td>1</td>\n",
       "      <td>2018</td>\n",
       "      <td>1016968.38</td>\n",
       "    </tr>\n",
       "    <tr>\n",
       "      <th>3</th>\n",
       "      <td>1</td>\n",
       "      <td>2019</td>\n",
       "      <td>1155803.43</td>\n",
       "    </tr>\n",
       "    <tr>\n",
       "      <th>4</th>\n",
       "      <td>1</td>\n",
       "      <td>2020</td>\n",
       "      <td>1155803.43</td>\n",
       "    </tr>\n",
       "    <tr>\n",
       "      <th>5</th>\n",
       "      <td>2</td>\n",
       "      <td>2016</td>\n",
       "      <td>272077.02</td>\n",
       "    </tr>\n",
       "    <tr>\n",
       "      <th>6</th>\n",
       "      <td>2</td>\n",
       "      <td>2017</td>\n",
       "      <td>656009.61</td>\n",
       "    </tr>\n",
       "    <tr>\n",
       "      <th>7</th>\n",
       "      <td>2</td>\n",
       "      <td>2018</td>\n",
       "      <td>1016968.38</td>\n",
       "    </tr>\n",
       "    <tr>\n",
       "      <th>8</th>\n",
       "      <td>2</td>\n",
       "      <td>2019</td>\n",
       "      <td>1155803.43</td>\n",
       "    </tr>\n",
       "    <tr>\n",
       "      <th>9</th>\n",
       "      <td>2</td>\n",
       "      <td>2020</td>\n",
       "      <td>1155803.43</td>\n",
       "    </tr>\n",
       "    <tr>\n",
       "      <th>10</th>\n",
       "      <td>3</td>\n",
       "      <td>2016</td>\n",
       "      <td>272077.02</td>\n",
       "    </tr>\n",
       "    <tr>\n",
       "      <th>11</th>\n",
       "      <td>3</td>\n",
       "      <td>2017</td>\n",
       "      <td>656009.61</td>\n",
       "    </tr>\n",
       "    <tr>\n",
       "      <th>12</th>\n",
       "      <td>3</td>\n",
       "      <td>2018</td>\n",
       "      <td>1016968.38</td>\n",
       "    </tr>\n",
       "    <tr>\n",
       "      <th>13</th>\n",
       "      <td>3</td>\n",
       "      <td>2019</td>\n",
       "      <td>1155803.43</td>\n",
       "    </tr>\n",
       "    <tr>\n",
       "      <th>14</th>\n",
       "      <td>3</td>\n",
       "      <td>2020</td>\n",
       "      <td>1155803.43</td>\n",
       "    </tr>\n",
       "    <tr>\n",
       "      <th>15</th>\n",
       "      <td>4</td>\n",
       "      <td>2016</td>\n",
       "      <td>272077.02</td>\n",
       "    </tr>\n",
       "    <tr>\n",
       "      <th>16</th>\n",
       "      <td>4</td>\n",
       "      <td>2017</td>\n",
       "      <td>656009.61</td>\n",
       "    </tr>\n",
       "    <tr>\n",
       "      <th>17</th>\n",
       "      <td>4</td>\n",
       "      <td>2018</td>\n",
       "      <td>1016968.38</td>\n",
       "    </tr>\n",
       "    <tr>\n",
       "      <th>18</th>\n",
       "      <td>4</td>\n",
       "      <td>2019</td>\n",
       "      <td>1155803.43</td>\n",
       "    </tr>\n",
       "    <tr>\n",
       "      <th>19</th>\n",
       "      <td>4</td>\n",
       "      <td>2020</td>\n",
       "      <td>1155803.43</td>\n",
       "    </tr>\n",
       "  </tbody>\n",
       "</table>\n",
       "</div>\n",
       "      <button class=\"colab-df-convert\" onclick=\"convertToInteractive('df-02763f9b-aed0-46df-ae2d-d52bb166699b')\"\n",
       "              title=\"Convert this dataframe to an interactive table.\"\n",
       "              style=\"display:none;\">\n",
       "        \n",
       "  <svg xmlns=\"http://www.w3.org/2000/svg\" height=\"24px\"viewBox=\"0 0 24 24\"\n",
       "       width=\"24px\">\n",
       "    <path d=\"M0 0h24v24H0V0z\" fill=\"none\"/>\n",
       "    <path d=\"M18.56 5.44l.94 2.06.94-2.06 2.06-.94-2.06-.94-.94-2.06-.94 2.06-2.06.94zm-11 1L8.5 8.5l.94-2.06 2.06-.94-2.06-.94L8.5 2.5l-.94 2.06-2.06.94zm10 10l.94 2.06.94-2.06 2.06-.94-2.06-.94-.94-2.06-.94 2.06-2.06.94z\"/><path d=\"M17.41 7.96l-1.37-1.37c-.4-.4-.92-.59-1.43-.59-.52 0-1.04.2-1.43.59L10.3 9.45l-7.72 7.72c-.78.78-.78 2.05 0 2.83L4 21.41c.39.39.9.59 1.41.59.51 0 1.02-.2 1.41-.59l7.78-7.78 2.81-2.81c.8-.78.8-2.07 0-2.86zM5.41 20L4 18.59l7.72-7.72 1.47 1.35L5.41 20z\"/>\n",
       "  </svg>\n",
       "      </button>\n",
       "      \n",
       "  <style>\n",
       "    .colab-df-container {\n",
       "      display:flex;\n",
       "      flex-wrap:wrap;\n",
       "      gap: 12px;\n",
       "    }\n",
       "\n",
       "    .colab-df-convert {\n",
       "      background-color: #E8F0FE;\n",
       "      border: none;\n",
       "      border-radius: 50%;\n",
       "      cursor: pointer;\n",
       "      display: none;\n",
       "      fill: #1967D2;\n",
       "      height: 32px;\n",
       "      padding: 0 0 0 0;\n",
       "      width: 32px;\n",
       "    }\n",
       "\n",
       "    .colab-df-convert:hover {\n",
       "      background-color: #E2EBFA;\n",
       "      box-shadow: 0px 1px 2px rgba(60, 64, 67, 0.3), 0px 1px 3px 1px rgba(60, 64, 67, 0.15);\n",
       "      fill: #174EA6;\n",
       "    }\n",
       "\n",
       "    [theme=dark] .colab-df-convert {\n",
       "      background-color: #3B4455;\n",
       "      fill: #D2E3FC;\n",
       "    }\n",
       "\n",
       "    [theme=dark] .colab-df-convert:hover {\n",
       "      background-color: #434B5C;\n",
       "      box-shadow: 0px 1px 3px 1px rgba(0, 0, 0, 0.15);\n",
       "      filter: drop-shadow(0px 1px 2px rgba(0, 0, 0, 0.3));\n",
       "      fill: #FFFFFF;\n",
       "    }\n",
       "  </style>\n",
       "\n",
       "      <script>\n",
       "        const buttonEl =\n",
       "          document.querySelector('#df-02763f9b-aed0-46df-ae2d-d52bb166699b button.colab-df-convert');\n",
       "        buttonEl.style.display =\n",
       "          google.colab.kernel.accessAllowed ? 'block' : 'none';\n",
       "\n",
       "        async function convertToInteractive(key) {\n",
       "          const element = document.querySelector('#df-02763f9b-aed0-46df-ae2d-d52bb166699b');\n",
       "          const dataTable =\n",
       "            await google.colab.kernel.invokeFunction('convertToInteractive',\n",
       "                                                     [key], {});\n",
       "          if (!dataTable) return;\n",
       "\n",
       "          const docLinkHtml = 'Like what you see? Visit the ' +\n",
       "            '<a target=\"_blank\" href=https://colab.research.google.com/notebooks/data_table.ipynb>data table notebook</a>'\n",
       "            + ' to learn more about interactive tables.';\n",
       "          element.innerHTML = '';\n",
       "          dataTable['output_type'] = 'display_data';\n",
       "          await google.colab.output.renderOutput(dataTable, element);\n",
       "          const docLink = document.createElement('div');\n",
       "          docLink.innerHTML = docLinkHtml;\n",
       "          element.appendChild(docLink);\n",
       "        }\n",
       "      </script>\n",
       "    </div>\n",
       "  </div>\n",
       "  "
      ],
      "text/plain": [
       "    TRIMESTRE   ANO  TOTALSALARIO\n",
       "0           1  2016     272077.02\n",
       "1           1  2017     656009.61\n",
       "2           1  2018    1016968.38\n",
       "3           1  2019    1155803.43\n",
       "4           1  2020    1155803.43\n",
       "5           2  2016     272077.02\n",
       "6           2  2017     656009.61\n",
       "7           2  2018    1016968.38\n",
       "8           2  2019    1155803.43\n",
       "9           2  2020    1155803.43\n",
       "10          3  2016     272077.02\n",
       "11          3  2017     656009.61\n",
       "12          3  2018    1016968.38\n",
       "13          3  2019    1155803.43\n",
       "14          3  2020    1155803.43\n",
       "15          4  2016     272077.02\n",
       "16          4  2017     656009.61\n",
       "17          4  2018    1016968.38\n",
       "18          4  2019    1155803.43\n",
       "19          4  2020    1155803.43"
      ]
     },
     "metadata": {},
     "output_type": "display_data"
    }
   ],
   "source": [
    "# Escreva aqui a sua resposta para a consulta OLAP\n",
    "\n",
    "# Listando apenas os dados de interesse\n",
    "comparaFuncionario = funcionarioPandas.query(\"funcEstadoNome == 'SAO PAULO'\")\n",
    "comparaCargo = cargoPandas.query('cargoNivel == \"SENIOR\"') \n",
    "\n",
    "# Fazendo as junções \n",
    "mergePagamentoData = pagamentoPandas.merge(dataPandas, on= \"dataPK\")\n",
    "mergePagamentoDataFuncionario = mergePagamentoData.merge(comparaFuncionario, on= \"funcPK\")\n",
    "mergePagamentoDataFuncionarioCargo = mergePagamentoDataFuncionario.merge(comparaCargo, on= \"cargoPK\")\n",
    "df = mergePagamentoDataFuncionarioCargo.groupby([\"dataTrimestre\", \"dataAno\"], as_index=False)[\"salario\"].sum().round(2)\n",
    "df = df.sort_values(by=[\"dataTrimestre\", \"dataAno\",  \"salario\"], ascending=True)\n",
    "df = df.rename(columns={\"dataTrimestre\":\"TRIMESTRE\", \"dataAno\":\"ANO\", \"salario\":\"TOTALSALARIO\"})\n",
    "display(df)"
   ]
  },
  {
   "cell_type": "markdown",
   "metadata": {
    "id": "DXEEICPec1VO"
   },
   "source": [
    "## 3.3 Consulta em pyspark\n"
   ]
  },
  {
   "cell_type": "code",
   "execution_count": null,
   "metadata": {
    "colab": {
     "base_uri": "https://localhost:8080/"
    },
    "id": "AR-tkw0Dc0b6",
    "outputId": "4f87ee90-bddc-46fa-8227-c16f9c386306"
   },
   "outputs": [
    {
     "name": "stdout",
     "output_type": "stream",
     "text": [
      "+---------+----+------------+\n",
      "|TRIMESTRE| ANO|TOTALSALARIO|\n",
      "+---------+----+------------+\n",
      "|        1|2016|   272077.02|\n",
      "|        1|2017|   656009.61|\n",
      "|        1|2018|  1016968.39|\n",
      "|        1|2019|  1155803.43|\n",
      "|        1|2020|  1155803.43|\n",
      "|        2|2016|   272077.02|\n",
      "|        2|2017|   656009.61|\n",
      "|        2|2018|  1016968.39|\n",
      "|        2|2019|  1155803.43|\n",
      "|        2|2020|  1155803.43|\n",
      "|        3|2016|   272077.02|\n",
      "|        3|2017|   656009.61|\n",
      "|        3|2018|  1016968.39|\n",
      "|        3|2019|  1155803.43|\n",
      "|        3|2020|  1155803.43|\n",
      "|        4|2016|   272077.02|\n",
      "|        4|2017|   656009.61|\n",
      "|        4|2018|  1016968.39|\n",
      "|        4|2019|  1155803.43|\n",
      "|        4|2020|  1155803.43|\n",
      "+---------+----+------------+\n",
      "\n"
     ]
    }
   ],
   "source": [
    "# Escreva aqui a sua resposta para a consulta OLAP\n",
    "pagamento\\\n",
    "  .join(data, on=\"dataPK\")\\\n",
    "  .join(funcionario, on='funcPK')\\\n",
    "  .join(cargo, on='cargoPK')\\\n",
    "  .where(\"funcEstadoNome == 'SAO PAULO'\")\\\n",
    "  .where(\"cargoNivel == 'SENIOR'\")\\\n",
    "  .groupBy('dataTrimestre', 'dataAno')\\\n",
    "  .sum('salario')\\\n",
    "  .withColumn('sum(salario)', round('sum(salario)', 2))\\\n",
    "  .withColumnRenamed('sum(salario)', 'TOTALSALARIO')\\\n",
    "  .withColumnRenamed('dataTrimestre', 'TRIMESTRE')\\\n",
    "  .withColumnRenamed('dataAno', 'ANO')\\\n",
    "  .orderBy('TRIMESTRE', 'ANO', 'TOTALSALARIO')\\\n",
    "  .show()"
   ]
  }
 ],
 "metadata": {
  "colab": {
   "collapsed_sections": [],
   "name": "Revisao.ipynb",
   "provenance": [],
   "toc_visible": true
  },
  "kernelspec": {
   "display_name": "Python 3",
   "language": "python",
   "name": "python3"
  },
  "language_info": {
   "codemirror_mode": {
    "name": "ipython",
    "version": 3
   },
   "file_extension": ".py",
   "mimetype": "text/x-python",
   "name": "python",
   "nbconvert_exporter": "python",
   "pygments_lexer": "ipython3",
   "version": "3.8.10"
  }
 },
 "nbformat": 4,
 "nbformat_minor": 1
}
