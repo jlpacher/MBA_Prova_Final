{
 "cells": [
  {
   "cell_type": "markdown",
   "id": "e99b03f7",
   "metadata": {
    "id": "e99b03f7"
   },
   "source": [
    "#JOÃO LUIZ PACHER \n",
    "\n",
    "### <span style=\"color:blue\">MBA em Ciência de Dados</span>\n",
    "\n",
    "<span style=\"color:blue\">Programação para Ciência de Dados</br>\n",
    "<span style=\"color:blue\">Técnicas Avançadas de Captura e Tratamento de Dados\n",
    "\n",
    "### <span style=\"color:blue\">Prova Final</span>\n",
    "\n",
    "**Material Produzido por:**<br>\n",
    ">**Prof Moacir A. Ponti**<br>\n",
    ">**Prof Luis Gustavo Nonato**<br> \n",
    "\n",
    "**CEMEAI - ICMC/USP São Carlos**\n",
    "\n",
    "---\n",
    "\n",
    "O arquivo `Emendas.csv` contém informações das emendas parlamentares do congresso nacional. Execute as seguintes operações sobre essa base de dados:\n",
    "\n",
    "1. **Leia o arquivo e considere apenas as colunas** 'Nome Funcao', 'Valor Empenhado', 'Valor Pago' e 'Valor Restos A Pagar Pagos'. 1\n",
    "\n",
    "2. Verifique e anote **quantos dados faltantes totais** existem no DataFrame resultante.\n",
    "\n",
    "3. Substitua os valores faltantes:\n",
    "    1. na coluna 'Valor Empenhado' pela média dos valores atuais nessa coluna,\n",
    "    2. por zero no restante do data frame.\n",
    "    \n",
    "4. Compute e anote a **soma total da coluna 'Valor Empenhado'** em milhares de reais (i.e. dividindo o valor por 1000) considerando os valores após o preenchimento de dados faltantes do passo anterior.\n",
    "\n",
    "5. Considerando a coluna 'Nome Funcao' como sendo categorias de emendas, compute a frequência da categoria majoritária, isto é, a categoria com maior número de ocorrências e a **porcentagem dessa categoria majoritária** com relação às demais categorias na base completa.\n",
    "    \n",
    "    \n",
    "**INSTRUÇÕES (Importante)**:<br>\n",
    "1. Você deve exportar esse notebook **com sua solução para as questões da prova** em formato .py e fazer upload no Moodle. \n",
    "   \n",
    "    * Atenção: você *não* deve fazer upload de um arquivo notebook (.ipynb), mas sim um arquivo **texto .py** contendo os códigos python que utilizou para resolver as questões. O arquivo .py pode ser gerado através de uma das opções abaixo:<br>\n",
    "        * no Jupyter Notebook/local: `File --> Download as --> Python (.py)` \n",
    "        * no Google Colab: `File --> Download .py` \n",
    "        * caso não esteja utilizando o Jupyter nem Colab, copie e cole seu código em um arquivo ASCII (Texto) salvando com a extensão .py\n",
    "\n",
    "2. O arquivo deve ser nomeado com seu nome e sobrenome, sem espaços e sem acentuacao. Exemplo: moacirponti.py\n",
    "\n",
    "3. É OBRIGATÓRIO conter no cabeçalho (início) do arquivo um comentário / texto com o seu nome completo\n",
    "\n",
    "\n",
    "**Desejamos uma boa prova!**\n",
    "\n",
    "Com base nos itens acima, assinale a alternativa correta\n",
    "\n",
    "a) Dados faltantes: 5, Total Valor Empenhado: 114025453, Porcentagem Majoritária: 43%<br>\n",
    "b) Dados faltantes: 9, Total Valor Empenhado: 204004899, Porcentagem Majoritária: 57% <br>\n",
    "<font color='red'>c) Dados faltantes: 14, Total Valor Empenhado: 104025454, Porcentagem Majoritária: 43%</font><br>\n",
    "d) Dados faltantes: 14, Total Valor Empenhado: 2283864, Porcentagem Majoritária: 43% <br>\n",
    "e) Dados faltantes: 5, Total Valor Empenhado: 104004899, Porcentagem Majoritária: 57% "
   ]
  },
  {
   "cell_type": "code",
   "execution_count": 1,
   "id": "55257248",
   "metadata": {
    "id": "55257248"
   },
   "outputs": [],
   "source": [
    "import pandas as pd\n",
    "import numpy as np"
   ]
  },
  {
   "cell_type": "code",
   "execution_count": 2,
   "id": "f00fd4de",
   "metadata": {
    "id": "f00fd4de",
    "outputId": "e09d17c3-a2fd-4b66-a139-2637d1c4f2b9"
   },
   "outputs": [
    {
     "name": "stdout",
     "output_type": "stream",
     "text": [
      "(45548, 4)\n"
     ]
    },
    {
     "data": {
      "text/html": [
       "<div>\n",
       "<style scoped>\n",
       "    .dataframe tbody tr th:only-of-type {\n",
       "        vertical-align: middle;\n",
       "    }\n",
       "\n",
       "    .dataframe tbody tr th {\n",
       "        vertical-align: top;\n",
       "    }\n",
       "\n",
       "    .dataframe thead th {\n",
       "        text-align: right;\n",
       "    }\n",
       "</style>\n",
       "<table border=\"1\" class=\"dataframe\">\n",
       "  <thead>\n",
       "    <tr style=\"text-align: right;\">\n",
       "      <th></th>\n",
       "      <th>Nome Funcao</th>\n",
       "      <th>Valor Empenhado</th>\n",
       "      <th>Valor Pago</th>\n",
       "      <th>Valor Restos A Pagar Pagos</th>\n",
       "    </tr>\n",
       "  </thead>\n",
       "  <tbody>\n",
       "    <tr>\n",
       "      <th>0</th>\n",
       "      <td>Saude</td>\n",
       "      <td>789725.0</td>\n",
       "      <td>0.0</td>\n",
       "      <td>789725.00</td>\n",
       "    </tr>\n",
       "    <tr>\n",
       "      <th>1</th>\n",
       "      <td>Urbanismo</td>\n",
       "      <td>1400000.0</td>\n",
       "      <td>0.0</td>\n",
       "      <td>916156.64</td>\n",
       "    </tr>\n",
       "    <tr>\n",
       "      <th>2</th>\n",
       "      <td>Urbanismo</td>\n",
       "      <td>1400000.0</td>\n",
       "      <td>0.0</td>\n",
       "      <td>1400000.00</td>\n",
       "    </tr>\n",
       "    <tr>\n",
       "      <th>3</th>\n",
       "      <td>Saude</td>\n",
       "      <td>500000.0</td>\n",
       "      <td>0.0</td>\n",
       "      <td>500000.00</td>\n",
       "    </tr>\n",
       "    <tr>\n",
       "      <th>4</th>\n",
       "      <td>Saude</td>\n",
       "      <td>231800.0</td>\n",
       "      <td>0.0</td>\n",
       "      <td>231800.00</td>\n",
       "    </tr>\n",
       "  </tbody>\n",
       "</table>\n",
       "</div>"
      ],
      "text/plain": [
       "  Nome Funcao  Valor Empenhado  Valor Pago  Valor Restos A Pagar Pagos\n",
       "0       Saude         789725.0         0.0                   789725.00\n",
       "1   Urbanismo        1400000.0         0.0                   916156.64\n",
       "2   Urbanismo        1400000.0         0.0                  1400000.00\n",
       "3       Saude         500000.0         0.0                   500000.00\n",
       "4       Saude         231800.0         0.0                   231800.00"
      ]
     },
     "execution_count": 2,
     "metadata": {},
     "output_type": "execute_result"
    }
   ],
   "source": [
    "# carregar a base de dados\n",
    "# data = pd.read_csv....\n",
    "\n",
    "df = pd.read_csv('Emendas.csv')\n",
    "df = df[['Nome Funcao', 'Valor Empenhado', 'Valor Pago', 'Valor Restos A Pagar Pagos']]\n",
    "print(df.shape)\n",
    "df.head()"
   ]
  },
  {
   "cell_type": "code",
   "execution_count": 3,
   "id": "964ac8cc",
   "metadata": {
    "id": "964ac8cc",
    "outputId": "bb744f13-bd6a-4a19-a7df-118bee5a4215"
   },
   "outputs": [
    {
     "data": {
      "text/plain": [
       "Nome Funcao                   0\n",
       "Valor Empenhado               9\n",
       "Valor Pago                    0\n",
       "Valor Restos A Pagar Pagos    5\n",
       "dtype: int64"
      ]
     },
     "execution_count": 3,
     "metadata": {},
     "output_type": "execute_result"
    }
   ],
   "source": [
    "# computar valores faltantes na base de dados\n",
    "df.isna().sum()"
   ]
  },
  {
   "cell_type": "code",
   "execution_count": 4,
   "id": "ce93708d",
   "metadata": {},
   "outputs": [
    {
     "data": {
      "text/plain": [
       "14"
      ]
     },
     "execution_count": 4,
     "metadata": {},
     "output_type": "execute_result"
    }
   ],
   "source": [
    "df.isna().sum().sum()"
   ]
  },
  {
   "cell_type": "code",
   "execution_count": 5,
   "id": "611c24da",
   "metadata": {
    "id": "611c24da",
    "outputId": "7a1f5bec-fa9a-4a6f-b28c-8c4dbdd2c2da"
   },
   "outputs": [],
   "source": [
    "# preencher os valores faltantes conforme instrucoes"
   ]
  },
  {
   "cell_type": "code",
   "execution_count": 6,
   "id": "a896524a",
   "metadata": {},
   "outputs": [
    {
     "data": {
      "text/plain": [
       "2283864.358173876"
      ]
     },
     "execution_count": 6,
     "metadata": {},
     "output_type": "execute_result"
    }
   ],
   "source": [
    "media_valor_empenhado = df['Valor Empenhado'].mean()\n",
    "media_valor_empenhado"
   ]
  },
  {
   "cell_type": "code",
   "execution_count": 7,
   "id": "f2f25d17",
   "metadata": {},
   "outputs": [
    {
     "data": {
      "text/plain": [
       "Nome Funcao                   0\n",
       "Valor Empenhado               0\n",
       "Valor Pago                    0\n",
       "Valor Restos A Pagar Pagos    5\n",
       "dtype: int64"
      ]
     },
     "execution_count": 7,
     "metadata": {},
     "output_type": "execute_result"
    }
   ],
   "source": [
    "df['Valor Empenhado'] = df['Valor Empenhado'].fillna(media_valor_empenhado)\n",
    "df.isna().sum()"
   ]
  },
  {
   "cell_type": "code",
   "execution_count": 8,
   "id": "1811f6e0",
   "metadata": {},
   "outputs": [
    {
     "data": {
      "text/plain": [
       "Nome Funcao                   0\n",
       "Valor Empenhado               0\n",
       "Valor Pago                    0\n",
       "Valor Restos A Pagar Pagos    0\n",
       "dtype: int64"
      ]
     },
     "execution_count": 8,
     "metadata": {},
     "output_type": "execute_result"
    }
   ],
   "source": [
    "df = df.fillna(0.0)\n",
    "df.isna().sum()"
   ]
  },
  {
   "cell_type": "code",
   "execution_count": 9,
   "id": "f3e673bf",
   "metadata": {
    "id": "f3e673bf"
   },
   "outputs": [
    {
     "data": {
      "text/plain": [
       "104025454.0"
      ]
     },
     "execution_count": 9,
     "metadata": {},
     "output_type": "execute_result"
    }
   ],
   "source": [
    "# computar soma dos valores empenhados\n",
    "soma_total_coluna_Valor_Empenhado = df['Valor Empenhado'].sum()/1000\n",
    "round(soma_total_coluna_Valor_Empenhado,0)"
   ]
  },
  {
   "cell_type": "code",
   "execution_count": 10,
   "id": "53277251",
   "metadata": {
    "id": "53277251",
    "outputId": "ef3a5610-b7c5-4e5c-a45d-56db238aa35f"
   },
   "outputs": [
    {
     "data": {
      "text/plain": [
       "Saude                    19736\n",
       "Urbanismo                 5124\n",
       "Educacao                  4270\n",
       "Agricultura               2362\n",
       "Desporto e lazer          2360\n",
       "Direitos da cidadania     1660\n",
       "Assistencia social        1655\n",
       "Defesa nacional           1587\n",
       "Comercio e servicos       1460\n",
       "Seguranca publica         1227\n",
       "Cultura                   1223\n",
       "Encargos especiais         879\n",
       "Ciencia e Tecnologia       491\n",
       "Organizacao agraria        450\n",
       "Gestao ambiental           420\n",
       "Transporte                 153\n",
       "Trabalho                   136\n",
       "Saneamento                  91\n",
       "Industria                   87\n",
       "Comunicacoes                54\n",
       "Administracao               49\n",
       "Habitacao                   31\n",
       "Previdencia social          21\n",
       "Relacoes exteriores         19\n",
       "Energia                      3\n",
       "Name: Nome Funcao, dtype: int64"
      ]
     },
     "execution_count": 10,
     "metadata": {},
     "output_type": "execute_result"
    }
   ],
   "source": [
    "# computar porcentagem da categoria (Nome Funcao) majoritária\n",
    "df['Nome Funcao'].value_counts()"
   ]
  },
  {
   "cell_type": "code",
   "execution_count": 11,
   "id": "fbc36a70",
   "metadata": {},
   "outputs": [
    {
     "data": {
      "text/plain": [
       "19736"
      ]
     },
     "execution_count": 11,
     "metadata": {},
     "output_type": "execute_result"
    }
   ],
   "source": [
    "# valor maximo\n",
    "df['Nome Funcao'].value_counts().max()"
   ]
  },
  {
   "cell_type": "code",
   "execution_count": 12,
   "id": "902acb4f",
   "metadata": {},
   "outputs": [
    {
     "data": {
      "text/plain": [
       "45548"
      ]
     },
     "execution_count": 12,
     "metadata": {},
     "output_type": "execute_result"
    }
   ],
   "source": [
    "# soma das frequencias\n",
    "df['Nome Funcao'].value_counts().sum()"
   ]
  },
  {
   "cell_type": "code",
   "execution_count": 13,
   "id": "5a40bbfc",
   "metadata": {},
   "outputs": [
    {
     "data": {
      "text/plain": [
       "0.4333011328708176"
      ]
     },
     "execution_count": 13,
     "metadata": {},
     "output_type": "execute_result"
    }
   ],
   "source": [
    "# porcentagem\n",
    "df['Nome Funcao'].value_counts().max()/df['Nome Funcao'].value_counts().sum()"
   ]
  }
 ],
 "metadata": {
  "colab": {
   "name": "AvaliacaoFinal_PCD_TACTD_2021_Solucoes.ipynb",
   "provenance": []
  },
  "kernelspec": {
   "display_name": "Python 3",
   "language": "python",
   "name": "python3"
  },
  "language_info": {
   "codemirror_mode": {
    "name": "ipython",
    "version": 3
   },
   "file_extension": ".py",
   "mimetype": "text/x-python",
   "name": "python",
   "nbconvert_exporter": "python",
   "pygments_lexer": "ipython3",
   "version": "3.8.10"
  }
 },
 "nbformat": 4,
 "nbformat_minor": 5
}
